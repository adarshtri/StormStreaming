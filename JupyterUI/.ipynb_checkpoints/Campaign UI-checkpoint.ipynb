{
 "cells": [
  {
   "cell_type": "code",
   "execution_count": 9,
   "metadata": {},
   "outputs": [],
   "source": [
    "import ipywidgets as widgets\n",
    "from ipywidgets import interact, interactive\n",
    "import mysql.connector as sql\n",
    "import pandas as pd\n",
    "import os\n",
    "from ipywidgets import Button, HBox, VBox\n",
    "from ipywidgets import Layout, Button, Box\n",
    "from ipywidgets import Layout, Button, Box, FloatText, Textarea, Dropdown, Label, IntSlider\n",
    "import requests\n",
    "import random\n",
    "import datetime"
   ]
  },
  {
   "cell_type": "code",
   "execution_count": 2,
   "metadata": {},
   "outputs": [],
   "source": [
    "db_connection = sql.connect(host='localhost', database='kafkastormtest', user='root', password='720354M@noj')"
   ]
  },
  {
   "cell_type": "code",
   "execution_count": 3,
   "metadata": {},
   "outputs": [],
   "source": [
    "def createCampaignHandler(x=''):\n",
    "    os.system('clear')\n",
    "    cursor = db_connection.cursor()\n",
    "    cursor.execute(\"insert into campaigns(name) values(\\\"\"+x.value+\"\\\")\")\n",
    "    db_connection.commit()\n",
    "    print(\"Campaign \"+x.value+\" created.\")"
   ]
  },
  {
   "cell_type": "code",
   "execution_count": 4,
   "metadata": {},
   "outputs": [],
   "source": [
    "def getCampaignList():\n",
    "    return pd.read_sql(con=db_connection,sql=\"select * from campaigns\", columns = ['id','name'])"
   ]
  },
  {
   "cell_type": "code",
   "execution_count": 5,
   "metadata": {},
   "outputs": [],
   "source": [
    "def deleteCampaign(x=''):\n",
    "    \n",
    "    campaign_name_to_delete = x\n",
    "    \n",
    "    "
   ]
  },
  {
   "cell_type": "code",
   "execution_count": 11,
   "metadata": {},
   "outputs": [],
   "source": [
    "def getCampaignFeature(x=''):\n",
    "    \n",
    "    if x=='Create Campaign':\n",
    "        createCampaign = widgets.Text(\n",
    "            value='',\n",
    "            placeholder='Enter Campaign Name',\n",
    "            description=' ',\n",
    "            disabled=False\n",
    "        )\n",
    "        display(createCampaign)\n",
    "        createCampaign.on_submit(createCampaignHandler)\n",
    "        \n",
    "    elif x=='Delete Campaign':\n",
    "        df = getCampaignList()\n",
    "        deleteDropDown = widgets.Dropdown(\n",
    "                options = df['name'],\n",
    "                description = ' '\n",
    "            )\n",
    "        \n",
    "        delButton = widgets.Button(\n",
    "            description = 'Delete?',\n",
    "            button_style='danger'\n",
    "        )\n",
    "        \n",
    "        verticalLayout = HBox([deleteDropDown,delButton])\n",
    "        display(verticalLayout)\n",
    "        \n",
    "        def deleteFromSQL(b):\n",
    "            campaign_name_to_delete = deleteDropDown.value\n",
    "            cursor = db_connection.cursor()\n",
    "            cursor.execute(\"delete from campaigns where name=\\\"\"+campaign_name_to_delete+\"\\\"\")\n",
    "            deleteDropDown.options = getCampaignList()['name']\n",
    "            db_connection.commit()\n",
    "        \n",
    "        delButton.on_click(deleteFromSQL)\n",
    "        \n",
    "    elif x=='Make Obd Calls':\n",
    "        \n",
    "        form_item_layout = Layout(\n",
    "            display='flex',\n",
    "            flex_flow='row',\n",
    "            justify_content='space-between'\n",
    "        )\n",
    "\n",
    "        makeObdCampaignDropDown = Dropdown(options=getCampaignList()['name'])\n",
    "        obdSizeSlider = IntSlider(min=0, max=100)\n",
    "        confirmButtonOBD = widgets.Button(\n",
    "            description = 'Confirm Simulation',\n",
    "            button_style='primary'\n",
    "        )\n",
    "        \n",
    "        def confirmOBD(b):\n",
    "            \n",
    "            c_id = pd.read_sql(con=db_connection,sql=\"select id from campaigns where name=\\\"\"+makeObdCampaignDropDown.value+\"\\\"\")\n",
    "            c_id = list(c_id['id'])[0]\n",
    "            attempt_list = [1,2,3]\n",
    "            status_list = [0,201,220]\n",
    "            \n",
    "            url = \"http://localhost:5000/postRequest\"\n",
    "            for i in range(0,obdSizeSlider.value):\n",
    "                data = '''{\"key\":\"campaign\",\"value\":\"'''+str(c_id)+\"    \"+str(random.choice(attempt_list))+\"    \"+str(random.choice(status_list))+\"    \"+str(datetime.datetime.now())+'''\"}'''\n",
    "                requests.post(url=url, data=data, headers={\"Content-Type\": \"application/json\"})\n",
    "        \n",
    "        confirmButtonOBD.on_click(confirmOBD)\n",
    "        \n",
    "        form_items = [\n",
    "            Box([Label(value='Select Campaign'),\n",
    "                 makeObdCampaignDropDown], layout=form_item_layout),\n",
    "            Box([Label(value='No of OBD\\'s'), obdSizeSlider], layout=form_item_layout),\n",
    "            Box([Label(value='Confirm'),\n",
    "                 confirmButtonOBD], layout=form_item_layout),\n",
    "        ]\n",
    "\n",
    "        form = Box(form_items, layout=Layout(\n",
    "            display='flex',\n",
    "            flex_flow='column',\n",
    "            border='solid 2px',\n",
    "            align_items='stretch',\n",
    "            width='50%'\n",
    "        ))\n",
    "        display(form)\n",
    "        "
   ]
  },
  {
   "cell_type": "code",
   "execution_count": 12,
   "metadata": {},
   "outputs": [
    {
     "data": {
      "application/vnd.jupyter.widget-view+json": {
       "model_id": "37b6db49a9774361bbfbee0b25f00aaf",
       "version_major": 2,
       "version_minor": 0
      },
      "text/html": [
       "<p>Failed to display Jupyter Widget of type <code>interactive</code>.</p>\n",
       "<p>\n",
       "  If you're reading this message in Jupyter Notebook or JupyterLab, it may mean\n",
       "  that the widgets JavaScript is still loading. If this message persists, it\n",
       "  likely means that the widgets JavaScript library is either not installed or\n",
       "  not enabled. See the <a href=\"https://ipywidgets.readthedocs.io/en/stable/user_install.html\">Jupyter\n",
       "  Widgets Documentation</a> for setup instructions.\n",
       "</p>\n",
       "<p>\n",
       "  If you're reading this message in another notebook frontend (for example, a static\n",
       "  rendering on GitHub or <a href=\"https://nbviewer.jupyter.org/\">NBViewer</a>),\n",
       "  it may mean that your frontend doesn't currently support widgets.\n",
       "</p>\n"
      ],
      "text/plain": [
       "interactive(children=(ToggleButtons(description=' ', options=('Create Campaign', 'Make Obd Calls', 'Delete Campaign'), tooltips=['Create a new Campaign', 'Simulate Calls for a Campaign'], value='Create Campaign'), Output()), _dom_classes=('widget-interact',))"
      ]
     },
     "metadata": {},
     "output_type": "display_data"
    }
   ],
   "source": [
    "campaignFeatures = widgets.ToggleButtons(\n",
    "    options = ['Create Campaign','Make Obd Calls','Delete Campaign'],\n",
    "    tooltips = ['Create a new Campaign', 'Simulate Calls for a Campaign'],\n",
    "    description = ' '\n",
    ")\n",
    "\n",
    "interactive(getCampaignFeature,x=campaignFeatures)"
   ]
  },
  {
   "cell_type": "code",
   "execution_count": null,
   "metadata": {},
   "outputs": [],
   "source": []
  }
 ],
 "metadata": {
  "kernelspec": {
   "display_name": "Python 3",
   "language": "python",
   "name": "python3"
  },
  "language_info": {
   "codemirror_mode": {
    "name": "ipython",
    "version": 3
   },
   "file_extension": ".py",
   "mimetype": "text/x-python",
   "name": "python",
   "nbconvert_exporter": "python",
   "pygments_lexer": "ipython3",
   "version": "3.6.3"
  }
 },
 "nbformat": 4,
 "nbformat_minor": 2
}
